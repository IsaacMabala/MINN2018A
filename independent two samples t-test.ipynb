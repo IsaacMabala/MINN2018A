{
 "cells": [
  {
   "cell_type": "markdown",
   "id": "7175044d-e661-45ae-b405-a926e72c6b39",
   "metadata": {},
   "source": [
    "<div class=\"alert alert-block alert-info\">\n",
    "    \n",
    "***Male and female students' heights were measured and recorded in a file named 'Gender Heights.csv' (attached). The mining engineering students' society (SMES) wants to understand whether there is a significant difference between the average heights of female and male students in order to assist in the decision to merge the society's male and female basketball teams. Use an approriate statistical test to check if there is a significant difference between male and female students' heights and advise the society accordingly. The data has already been cleaned.***"
   ]
  },
  {
   "cell_type": "markdown",
   "id": "655037f8-5bd7-4886-a04d-b6fcc6207645",
   "metadata": {},
   "source": [
    "# ***1. Import Libraries***"
   ]
  },
  {
   "cell_type": "code",
   "execution_count": 1,
   "id": "9360c346",
   "metadata": {
    "scrolled": true
   },
   "outputs": [],
   "source": [
    "import numpy as np\n",
    "import pandas as pd\n",
    "import matplotlib.pyplot as plt\n",
    "import scipy.stats as stats\n",
    "import pylab"
   ]
  },
  {
   "cell_type": "markdown",
   "id": "ba12eee1-c7cc-4359-845d-6e154e9ec3f6",
   "metadata": {},
   "source": [
    "# ***2. Import Data***"
   ]
  },
  {
   "cell_type": "code",
   "execution_count": 2,
   "id": "367ca887",
   "metadata": {
    "scrolled": true
   },
   "outputs": [],
   "source": [
    "gender_heights = pd.read_csv('C:\\\\Users\\\\a0008578\\\\Desktop\\\\Jupyter Notebooks\\\\Gender Heights.csv') #Import data"
   ]
  },
  {
   "cell_type": "markdown",
   "id": "4939dae3-18b1-492d-b124-810e4098b072",
   "metadata": {
    "tags": []
   },
   "source": [
    "# ***3. Exploratory Data Analysis***"
   ]
  },
  {
   "cell_type": "markdown",
   "id": "ba9e144f-9949-4717-870d-3f12c7d4b0eb",
   "metadata": {},
   "source": [
    "## ***3.1. Explore shape of data frame***"
   ]
  },
  {
   "cell_type": "code",
   "execution_count": 3,
   "id": "29c77229-4311-4448-8226-8790f207c6a1",
   "metadata": {
    "scrolled": true,
    "tags": []
   },
   "outputs": [
    {
     "name": "stdout",
     "output_type": "stream",
     "text": [
      "      Gender  Height\n",
      "0       Male    73.8\n",
      "1       Male    68.8\n",
      "2       Male    74.1\n",
      "3       Male    71.7\n",
      "4       Male    69.9\n",
      "...      ...     ...\n",
      "9995  Female    66.2\n",
      "9996  Female    67.1\n",
      "9997  Female    63.9\n",
      "9998  Female    69.0\n",
      "9999  Female    61.9\n",
      "\n",
      "[10000 rows x 2 columns]\n"
     ]
    }
   ],
   "source": [
    "print(gender_heights)"
   ]
  },
  {
   "cell_type": "code",
   "execution_count": 4,
   "id": "e9560744-9d8e-4af4-a7ab-a6af7d308f27",
   "metadata": {},
   "outputs": [
    {
     "name": "stdout",
     "output_type": "stream",
     "text": [
      "<class 'pandas.core.frame.DataFrame'>\n",
      "RangeIndex: 10000 entries, 0 to 9999\n",
      "Data columns (total 2 columns):\n",
      " #   Column  Non-Null Count  Dtype  \n",
      "---  ------  --------------  -----  \n",
      " 0   Gender  10000 non-null  object \n",
      " 1   Height  10000 non-null  float64\n",
      "dtypes: float64(1), object(1)\n",
      "memory usage: 156.4+ KB\n"
     ]
    },
    {
     "data": {
      "text/plain": [
       "(10000, 2)"
      ]
     },
     "execution_count": 4,
     "metadata": {},
     "output_type": "execute_result"
    }
   ],
   "source": [
    "gender_heights.info() #Displays number of columns, non values in each column and type of variables in each column\n",
    "gender_heights.shape #Reports the maximum number of observations and columns"
   ]
  },
  {
   "cell_type": "markdown",
   "id": "f30c1483-93e5-41cc-bb8f-7b4aa9fdb858",
   "metadata": {},
   "source": [
    "## ***3.2. Numeric summaries***"
   ]
  },
  {
   "cell_type": "code",
   "execution_count": 5,
   "id": "281cfed0-2c63-4c16-b149-4332925df239",
   "metadata": {
    "tags": []
   },
   "outputs": [
    {
     "data": {
      "text/html": [
       "<div>\n",
       "<style scoped>\n",
       "    .dataframe tbody tr th:only-of-type {\n",
       "        vertical-align: middle;\n",
       "    }\n",
       "\n",
       "    .dataframe tbody tr th {\n",
       "        vertical-align: top;\n",
       "    }\n",
       "\n",
       "    .dataframe thead tr th {\n",
       "        text-align: left;\n",
       "    }\n",
       "\n",
       "    .dataframe thead tr:last-of-type th {\n",
       "        text-align: right;\n",
       "    }\n",
       "</style>\n",
       "<table border=\"1\" class=\"dataframe\">\n",
       "  <thead>\n",
       "    <tr>\n",
       "      <th></th>\n",
       "      <th colspan=\"8\" halign=\"left\">Height</th>\n",
       "    </tr>\n",
       "    <tr>\n",
       "      <th></th>\n",
       "      <th>count</th>\n",
       "      <th>mean</th>\n",
       "      <th>std</th>\n",
       "      <th>min</th>\n",
       "      <th>25%</th>\n",
       "      <th>50%</th>\n",
       "      <th>75%</th>\n",
       "      <th>max</th>\n",
       "    </tr>\n",
       "    <tr>\n",
       "      <th>Gender</th>\n",
       "      <th></th>\n",
       "      <th></th>\n",
       "      <th></th>\n",
       "      <th></th>\n",
       "      <th></th>\n",
       "      <th></th>\n",
       "      <th></th>\n",
       "      <th></th>\n",
       "    </tr>\n",
       "  </thead>\n",
       "  <tbody>\n",
       "    <tr>\n",
       "      <th>Female</th>\n",
       "      <td>5000.0</td>\n",
       "      <td>63.70844</td>\n",
       "      <td>2.696466</td>\n",
       "      <td>54.3</td>\n",
       "      <td>61.9</td>\n",
       "      <td>63.7</td>\n",
       "      <td>65.6</td>\n",
       "      <td>73.4</td>\n",
       "    </tr>\n",
       "    <tr>\n",
       "      <th>Male</th>\n",
       "      <td>5000.0</td>\n",
       "      <td>69.02720</td>\n",
       "      <td>2.863762</td>\n",
       "      <td>58.4</td>\n",
       "      <td>67.2</td>\n",
       "      <td>69.0</td>\n",
       "      <td>71.0</td>\n",
       "      <td>79.0</td>\n",
       "    </tr>\n",
       "  </tbody>\n",
       "</table>\n",
       "</div>"
      ],
      "text/plain": [
       "        Height                                                  \n",
       "         count      mean       std   min   25%   50%   75%   max\n",
       "Gender                                                          \n",
       "Female  5000.0  63.70844  2.696466  54.3  61.9  63.7  65.6  73.4\n",
       "Male    5000.0  69.02720  2.863762  58.4  67.2  69.0  71.0  79.0"
      ]
     },
     "execution_count": 5,
     "metadata": {},
     "output_type": "execute_result"
    }
   ],
   "source": [
    "gender_heights.groupby('Gender').describe() #Calculates summmary statistics for Female and Male Heights"
   ]
  },
  {
   "cell_type": "code",
   "execution_count": 6,
   "id": "acde45ba-68d4-4901-9d52-a461143874f5",
   "metadata": {},
   "outputs": [
    {
     "data": {
      "text/html": [
       "<div>\n",
       "<style scoped>\n",
       "    .dataframe tbody tr th:only-of-type {\n",
       "        vertical-align: middle;\n",
       "    }\n",
       "\n",
       "    .dataframe tbody tr th {\n",
       "        vertical-align: top;\n",
       "    }\n",
       "\n",
       "    .dataframe thead th {\n",
       "        text-align: right;\n",
       "    }\n",
       "</style>\n",
       "<table border=\"1\" class=\"dataframe\">\n",
       "  <thead>\n",
       "    <tr style=\"text-align: right;\">\n",
       "      <th></th>\n",
       "      <th>Height</th>\n",
       "    </tr>\n",
       "    <tr>\n",
       "      <th>Gender</th>\n",
       "      <th></th>\n",
       "    </tr>\n",
       "  </thead>\n",
       "  <tbody>\n",
       "    <tr>\n",
       "      <th>Female</th>\n",
       "      <td>63.9</td>\n",
       "    </tr>\n",
       "    <tr>\n",
       "      <th>Male</th>\n",
       "      <td>69.6</td>\n",
       "    </tr>\n",
       "  </tbody>\n",
       "</table>\n",
       "</div>"
      ],
      "text/plain": [
       "        Height\n",
       "Gender        \n",
       "Female    63.9\n",
       "Male      69.6"
      ]
     },
     "execution_count": 6,
     "metadata": {},
     "output_type": "execute_result"
    }
   ],
   "source": [
    "gender_heights.groupby('Gender').agg(pd.Series.mode) #Calculates summmary statistics for Female and Male Heights"
   ]
  },
  {
   "cell_type": "code",
   "execution_count": 7,
   "id": "13a18ea0-1c44-455e-976b-b073615a201e",
   "metadata": {
    "tags": []
   },
   "outputs": [
    {
     "data": {
      "image/png": "[encoded data removed]",
      "text/plain": [
       "<Figure size 432x288 with 1 Axes>"
      ]
     },
     "metadata": {
      "needs_background": "light"
     },
     "output_type": "display_data"
    },
    {
     "data": {
      "image/png": "[encoded data removed]",
      "text/plain": [
       "<Figure size 432x288 with 1 Axes>"
      ]
     },
     "metadata": {
      "needs_background": "light"
     },
     "output_type": "display_data"
    }
   ],
   "source": [
    "gender_heights.groupby('Gender').hist(by=gender_heights['Gender'])      #Plots histogram for Female and Male Heights\n",
    "plt.xlabel('Gender')                                                    #Labels x-axis\n",
    "plt.ylabel('Frequency');                                                #Labels y-axis"
   ]
  },
  {
   "cell_type": "code",
   "execution_count": 8,
   "id": "892ff35d-0d3c-4f72-8e73-df01349b751e",
   "metadata": {},
   "outputs": [
    {
     "data": {
      "image/png": "[encoded data removed]",
      "text/plain": [
       "<Figure size 432x288 with 1 Axes>"
      ]
     },
     "metadata": {
      "needs_background": "light"
     },
     "output_type": "display_data"
    }
   ],
   "source": [
    "gender_heights.groupby('Gender').boxplot('Height', vert=False) #Plots histogram for Female and Male Heights\n",
    "plt.xlabel('Gender')                                           #Labels x-axis\n",
    "plt.ylabel('Frequency');                                       #Labels y-axis"
   ]
  },
  {
   "cell_type": "markdown",
   "id": "8c63525d-4526-49aa-b9fb-a5bef277913e",
   "metadata": {},
   "source": [
    "# ***5. Normality Checks***"
   ]
  },
  {
   "cell_type": "markdown",
   "id": "3e918417-b0eb-498b-aaa5-60d309fc57ed",
   "metadata": {
    "tags": []
   },
   "source": [
    "## ***5.1. Compare Mean, Mode and Median***"
   ]
  },
  {
   "cell_type": "markdown",
   "id": "f1744dbe-5c36-4d93-8194-02e9a5203b87",
   "metadata": {
    "tags": []
   },
   "source": [
    "<div class=\"alert alert-block alert-info\">\n",
    "\n",
    "|Gender | Mean | Median |Mode|Comment|\n",
    "| --- | --- | --- |--- |--- |\n",
    "| Male |170.0 | 170.0 |170.6|mean≈median≈mode, normal|\n",
    "| Female |164.7 |164.7 |164.9|mean≈median≈mode, normal|\n",
    "\n",
    "    \n",
    " ***Overall, the both male and female heights seem to be sampled from a normal distribution***"
   ]
  },
  {
   "cell_type": "markdown",
   "id": "8823150a-d4b4-4c4f-ba10-6a2ccf9a87b1",
   "metadata": {
    "tags": []
   },
   "source": [
    "## ***5.2. Analyse Histograms and Boxplots***"
   ]
  },
  {
   "cell_type": "markdown",
   "id": "038479c8-b028-459a-b5f2-884f7e73814e",
   "metadata": {},
   "source": [
    "<div class=\"alert alert-block alert-info\">\n",
    "    \n",
    "***\"Female\" and \"Male\" Heights - approximately symmetrical due the symmetrical shape of histogram***\n",
    "\n",
    "***\"Female\" and \"Male\" Heights - approximately symmetrical due the median being near the middle of the plots***\n",
    " "
   ]
  },
  {
   "cell_type": "markdown",
   "id": "c35d5b54-cbff-4f43-8956-8d96e64e3c92",
   "metadata": {},
   "source": [
    "## ***5.3. Normal Probability Plots***"
   ]
  },
  {
   "cell_type": "code",
   "execution_count": 9,
   "id": "dd0cda06-b581-4c22-89e2-1769eaae6c26",
   "metadata": {},
   "outputs": [
    {
     "data": {
      "image/png": "[encoded data removed]",
      "text/plain": [
       "<Figure size 432x288 with 1 Axes>"
      ]
     },
     "metadata": {
      "needs_background": "light"
     },
     "output_type": "display_data"
    }
   ],
   "source": [
    "male_heights = list(gender_heights[gender_heights['Gender'] == 'Male']['Height']) #Creates ordered data for the specific group\n",
    "n_male_heights = stats.zscore(male_heights)                                       #N-score transformation                                       \n",
    "stats.probplot(n_male_heights, dist = 'norm', plot=pylab)                         #Calculates quantiles of sample data against those of a normal distribution                          \n",
    "pylab.show()                                                                      #Displays the normal probability plot"
   ]
  },
  {
   "cell_type": "code",
   "execution_count": 10,
   "id": "6836faf6-f1ab-4c52-bea4-630fdcfeac24",
   "metadata": {},
   "outputs": [
    {
     "data": {
      "image/png": "[encoded data removed]",
      "text/plain": [
       "<Figure size 432x288 with 1 Axes>"
      ]
     },
     "metadata": {
      "needs_background": "light"
     },
     "output_type": "display_data"
    }
   ],
   "source": [
    "female_heights = list(gender_heights[gender_heights['Gender'] == 'Female']['Height']) #Creates ordered data for the specific group\n",
    "n_female_heights = stats.zscore(female_heights)                                       #N-score transformation \n",
    "stats.probplot(n_female_heights, dist = 'norm', plot=pylab)                           #Calculates quantiles of sample data against those of a normal distribution  \n",
    "pylab.show()                                                                          #Displays the normal probability plot"
   ]
  },
  {
   "cell_type": "markdown",
   "id": "88223e83-d569-4e70-9552-b9e23b6c590f",
   "metadata": {},
   "source": [
    "<div class=\"alert alert-block alert-info\">\n",
    " \n",
    " ***Normal probability plots generally show data that is approximatly normally distributed with minor departures at tail ends which are probably due to outliers observed in the boxplots.***\n"
   ]
  },
  {
   "cell_type": "markdown",
   "id": "733d15ad-e6b5-41be-bdf2-6db6ecd95212",
   "metadata": {},
   "source": [
    "## ***5.4. Calculate Skewness***"
   ]
  },
  {
   "cell_type": "code",
   "execution_count": 11,
   "id": "601ceee0-a92e-4d75-b8b4-6a9652e76c91",
   "metadata": {},
   "outputs": [
    {
     "data": {
      "text/plain": [
       "-0.06141572200472763"
      ]
     },
     "execution_count": 11,
     "metadata": {},
     "output_type": "execute_result"
    }
   ],
   "source": [
    "from scipy.stats import kurtosis\n",
    "from scipy.stats import skew\n",
    "skew(male_heights, bias=False) #Calculates skewness for \"Male Heights\""
   ]
  },
  {
   "cell_type": "markdown",
   "id": "30f3db1f-2714-4b52-a4d6-d9dfa7e3c4f2",
   "metadata": {},
   "source": [
    "<div class=\"alert alert-block alert-info\">\n",
    " \n",
    " ***\"Male Heights\" - approximately symmetrical ( Skewness is between 0 & -0.5)***\n",
    " "
   ]
  },
  {
   "cell_type": "code",
   "execution_count": 12,
   "id": "c00f42d6-a7a2-4241-a065-d5efb7ecc94e",
   "metadata": {},
   "outputs": [
    {
     "data": {
      "text/plain": [
       "-0.01889777680541078"
      ]
     },
     "execution_count": 12,
     "metadata": {},
     "output_type": "execute_result"
    }
   ],
   "source": [
    "skew(female_heights, bias=False) #Calculates skewness for \"Female Heights\""
   ]
  },
  {
   "cell_type": "markdown",
   "id": "d8634ff4-739f-4281-befb-425fca8adaca",
   "metadata": {},
   "source": [
    "<div class=\"alert alert-block alert-info\">\n",
    " \n",
    " ***\"Female Heights\" - approximately symmetrical ( Skewness is between 0 & -0.5)***\n",
    " "
   ]
  },
  {
   "cell_type": "markdown",
   "id": "e2ff965f-d5d6-4dd6-95b2-c4883d8461ff",
   "metadata": {},
   "source": [
    "## ***5.5. Normality Test: Anderson Darling Test***"
   ]
  },
  {
   "cell_type": "code",
   "execution_count": 13,
   "id": "b726cfe4-a446-47be-a86d-0fa2ffa6d05a",
   "metadata": {
    "tags": []
   },
   "outputs": [
    {
     "data": {
      "text/plain": [
       "AndersonResult(statistic=0.8364780706515376, critical_values=array([0.576, 0.655, 0.786, 0.917, 1.091]), significance_level=array([15. , 10. ,  5. ,  2.5,  1. ]))"
      ]
     },
     "execution_count": 13,
     "metadata": {},
     "output_type": "execute_result"
    }
   ],
   "source": [
    "from scipy.stats import anderson\n",
    "anderson(male_heights, dist ='norm') #Runs Anderson Darling's normality test for Male Heights"
   ]
  },
  {
   "cell_type": "markdown",
   "id": "5e12adcb-b928-403b-9a58-f4884bfa788b",
   "metadata": {},
   "source": [
    "<div class=\"alert alert-block alert-info\">\n",
    "\n",
    "***Remember:***\n",
    "\n",
    "***1. If (Test) Statistic > Critcal Value, Reject the null hypothesis (Note: Ho for A/D = data are normally distributed)***\n",
    "    \n",
    "***2. If (Test) Statistic < Critcal Value, Fail to reject the null hypothesis (Note: Ho for A/D = data are normally distributed)***\n",
    "\n",
    "***For significance levels => 10%, (Test) Statistic < Critcal Values. Therefore, we fail to reject the null hypothesis that the data is normally distributed. (given a significance level of 10% or upwards)***\n",
    " \n",
    "***For significance levels =< 5%, (Test) Statistic > Critcal Values. Therefore, we reject the null hypothesis that the data is normally distributed.***"
   ]
  },
  {
   "cell_type": "code",
   "execution_count": 14,
   "id": "12ac8be0-e607-49ac-98c3-d42dd881b468",
   "metadata": {
    "tags": []
   },
   "outputs": [
    {
     "data": {
      "text/plain": [
       "AndersonResult(statistic=0.45239685367050697, critical_values=array([0.576, 0.655, 0.786, 0.917, 1.091]), significance_level=array([15. , 10. ,  5. ,  2.5,  1. ]))"
      ]
     },
     "execution_count": 14,
     "metadata": {},
     "output_type": "execute_result"
    }
   ],
   "source": [
    "anderson(female_heights, dist ='norm') #Runs Anderson Darling's normality test for Weight After "
   ]
  },
  {
   "cell_type": "markdown",
   "id": "eaac7475-f498-4b2f-8939-047eb55bf9a7",
   "metadata": {},
   "source": [
    "<div class=\"alert alert-block alert-info\">\n",
    "\n",
    "***Remember:***\n",
    "\n",
    "***1. If (Test) Statistic > Critcal Value, Reject the null hypothesis (Note: Ho for A/D = data are normally distributed)***\n",
    "    \n",
    "***2. If (Test) Statistic < Critcal Value, Fail to reject the null hypothesis (Note: Ho for A/D = data are normally distributed)***\n",
    "\n",
    "***For all significance levels, (Test) Statistic < Critcal Values. Therefore, we fail to reject the null hypothesis that the data is normally distributed.***"
   ]
  },
  {
   "cell_type": "markdown",
   "id": "25fae885-b150-474c-bbf5-c1d480b91494",
   "metadata": {
    "tags": []
   },
   "source": [
    "# ***6. Equal Variance Test***"
   ]
  },
  {
   "cell_type": "markdown",
   "id": "7d8cd21b-6552-4462-9bd5-50f270bb5d1f",
   "metadata": {},
   "source": [
    "<div class=\"alert alert-block alert-info\">\n",
    "    \n",
    "***Since there is no  sufficient evidence to support that \"Male Heights\" is normally distributed at significance level of 5% or less. The equal variance test to use is the Levene Test which is robust for non-normal data.***"
   ]
  },
  {
   "cell_type": "code",
   "execution_count": 15,
   "id": "d320526c-9d81-4275-ad42-246fd81ca03d",
   "metadata": {},
   "outputs": [
    {
     "data": {
      "text/plain": [
       "LeveneResult(statistic=12.345654525890422, pvalue=0.000443967815388965)"
      ]
     },
     "execution_count": 15,
     "metadata": {},
     "output_type": "execute_result"
    }
   ],
   "source": [
    "stats.levene(male_heights, female_heights) #Runs a Levene's Test for Equal Variances"
   ]
  },
  {
   "cell_type": "markdown",
   "id": "ca78a99e-74a6-493e-997e-d0bc038c1f67",
   "metadata": {},
   "source": [
    "<div class=\"alert alert-block alert-info\">\n",
    "\n",
    "***Remember:***\n",
    "\n",
    "***Levene's test: Ho: Variance 1 = Variance 2***\n",
    "    \n",
    "***P-value <0.05, Reject the null hypothesisx***\n",
    "               \n",
    "***P-value >0.05, Fail to reject the null hypothesis***\n",
    "\n",
    "***Here, p-value < 0.05, therefore we reject the null hypothesis that the variances of \"Male Heights\" are equal to \"Female Heights\".***"
   ]
  },
  {
   "cell_type": "markdown",
   "id": "db21d650-645e-46c6-9da4-6378a405ca96",
   "metadata": {},
   "source": [
    "# ***7. Independent Two Samples T-Test***"
   ]
  },
  {
   "cell_type": "code",
   "execution_count": 16,
   "id": "dc19752a-00b4-4ac3-a0f1-83a48b545551",
   "metadata": {},
   "outputs": [
    {
     "data": {
      "text/plain": [
       "Ttest_indResult(statistic=95.61395411409542, pvalue=0.0)"
      ]
     },
     "execution_count": 16,
     "metadata": {},
     "output_type": "execute_result"
    }
   ],
   "source": [
    "stats.ttest_ind(male_heights, female_heights, equal_var=False) #Runs an independent two samples t test"
   ]
  },
  {
   "cell_type": "markdown",
   "id": "3e853ae5-49d7-4ddf-81a1-edb8bfe55363",
   "metadata": {},
   "source": [
    "<div class=\"alert alert-block alert-info\">\n",
    "    \n",
    "***By specifying that equal_var=False the test is run by adjusting the degrees of freedom to correct for the effect of unequal variances.***\n",
    "\n",
    "***Independent Two Samples T-Test: Ho: Mean 1 = Mean 2***\n",
    "    \n",
    "***P-value <0.05, Reject the null hypothesis***\n",
    "               \n",
    "***P-value >0.05, Fail to reject the null hypothesis***\n",
    "\n",
    "***Here, p-value < 0.05, therefore we reject the null hypothesis that the means of \"Male Heights\" are equal to \"Female Heights\".***\n",
    "\n",
    "***Therefore, by making one team of males and females that might give the males a height advantage***"
   ]
  }
 ],
 "metadata": {
  "kernelspec": {
   "display_name": "Python 3 (ipykernel)",
   "language": "python",
   "name": "python3"
  },
  "language_info": {
   "codemirror_mode": {
    "name": "ipython",
    "version": 3
   },
   "file_extension": ".py",
   "mimetype": "text/x-python",
   "name": "python",
   "nbconvert_exporter": "python",
   "pygments_lexer": "ipython3",
   "version": "3.9.12"
  },
  "toc-showmarkdowntxt": false
 },
 "nbformat": 4,
 "nbformat_minor": 5
}
