{
 "cells": [
  {
   "cell_type": "markdown",
   "id": "7175044d-e661-45ae-b405-a926e72c6b39",
   "metadata": {},
   "source": [
    "<div class=\"alert alert-block alert-info\">\n",
    "    \n",
    "***Three type of customers from a popular franchise store were classified as A, B and C based on their spending habits. The group of customers had their customer statisfaction measured out a total of 5 points and the scores were subsequently recorded for a period of time in the file titled \"Customer Satisfaction.csv\"(Attached). The franchise would like investigate if the satisfaction by the three groups of customers is significantly different. The data is clean.***"
   ]
  },
  {
   "cell_type": "markdown",
   "id": "655037f8-5bd7-4886-a04d-b6fcc6207645",
   "metadata": {},
   "source": [
    "# ***1. Import Libraries***"
   ]
  },
  {
   "cell_type": "code",
   "execution_count": 1,
   "id": "9360c346",
   "metadata": {
    "scrolled": true
   },
   "outputs": [],
   "source": [
    "import numpy as np\n",
    "import pandas as pd\n",
    "import matplotlib.pyplot as plt\n",
    "import scipy.stats as stats\n",
    "import pylab"
   ]
  },
  {
   "cell_type": "markdown",
   "id": "ba12eee1-c7cc-4359-845d-6e154e9ec3f6",
   "metadata": {},
   "source": [
    "# ***2. Import Data***"
   ]
  },
  {
   "cell_type": "code",
   "execution_count": 2,
   "id": "367ca887",
   "metadata": {
    "scrolled": true
   },
   "outputs": [],
   "source": [
    "customer_satisfaction = pd.read_csv('C:\\\\Users\\\\a0008578\\\\Desktop\\\\Jupyter Notebooks\\\\Customer Satisfaction.csv') #Import data"
   ]
  },
  {
   "cell_type": "markdown",
   "id": "4939dae3-18b1-492d-b124-810e4098b072",
   "metadata": {
    "tags": []
   },
   "source": [
    "# ***3. Exploratory Data Analysis***"
   ]
  },
  {
   "cell_type": "markdown",
   "id": "ba9e144f-9949-4717-870d-3f12c7d4b0eb",
   "metadata": {},
   "source": [
    "## ***3.1. Explore shape of data frame***"
   ]
  },
  {
   "cell_type": "code",
   "execution_count": 3,
   "id": "29c77229-4311-4448-8226-8790f207c6a1",
   "metadata": {
    "scrolled": true,
    "tags": []
   },
   "outputs": [
    {
     "name": "stdout",
     "output_type": "stream",
     "text": [
      "   Customer Type  Overall Satisfaction\n",
      "0              B                  3.54\n",
      "1              C                  3.16\n",
      "2              B                  2.42\n",
      "3              B                  2.70\n",
      "4              C                  3.31\n",
      "..           ...                   ...\n",
      "95             A                  2.56\n",
      "96             B                  4.40\n",
      "97             B                  4.72\n",
      "98             A                  2.90\n",
      "99             C                  3.98\n",
      "\n",
      "[100 rows x 2 columns]\n"
     ]
    }
   ],
   "source": [
    "print(customer_satisfaction) #Displays the data"
   ]
  },
  {
   "cell_type": "code",
   "execution_count": 4,
   "id": "e9560744-9d8e-4af4-a7ab-a6af7d308f27",
   "metadata": {},
   "outputs": [
    {
     "name": "stdout",
     "output_type": "stream",
     "text": [
      "<class 'pandas.core.frame.DataFrame'>\n",
      "RangeIndex: 100 entries, 0 to 99\n",
      "Data columns (total 2 columns):\n",
      " #   Column                Non-Null Count  Dtype  \n",
      "---  ------                --------------  -----  \n",
      " 0   Customer Type         100 non-null    object \n",
      " 1   Overall Satisfaction  100 non-null    float64\n",
      "dtypes: float64(1), object(1)\n",
      "memory usage: 1.7+ KB\n"
     ]
    },
    {
     "data": {
      "text/plain": [
       "(100, 2)"
      ]
     },
     "execution_count": 4,
     "metadata": {},
     "output_type": "execute_result"
    }
   ],
   "source": [
    "customer_satisfaction.info() #Displays number of columns, non values in each column and type of variables in each column\n",
    "customer_satisfaction.shape  #Reports the maximum number of observations and columns"
   ]
  },
  {
   "cell_type": "markdown",
   "id": "f30c1483-93e5-41cc-bb8f-7b4aa9fdb858",
   "metadata": {},
   "source": [
    "## ***3.2. Numeric summaries***"
   ]
  },
  {
   "cell_type": "code",
   "execution_count": 5,
   "id": "281cfed0-2c63-4c16-b149-4332925df239",
   "metadata": {
    "tags": []
   },
   "outputs": [
    {
     "data": {
      "text/html": [
       "<div>\n",
       "<style scoped>\n",
       "    .dataframe tbody tr th:only-of-type {\n",
       "        vertical-align: middle;\n",
       "    }\n",
       "\n",
       "    .dataframe tbody tr th {\n",
       "        vertical-align: top;\n",
       "    }\n",
       "\n",
       "    .dataframe thead tr th {\n",
       "        text-align: left;\n",
       "    }\n",
       "\n",
       "    .dataframe thead tr:last-of-type th {\n",
       "        text-align: right;\n",
       "    }\n",
       "</style>\n",
       "<table border=\"1\" class=\"dataframe\">\n",
       "  <thead>\n",
       "    <tr>\n",
       "      <th></th>\n",
       "      <th colspan=\"8\" halign=\"left\">Overall Satisfaction</th>\n",
       "    </tr>\n",
       "    <tr>\n",
       "      <th></th>\n",
       "      <th>count</th>\n",
       "      <th>mean</th>\n",
       "      <th>std</th>\n",
       "      <th>min</th>\n",
       "      <th>25%</th>\n",
       "      <th>50%</th>\n",
       "      <th>75%</th>\n",
       "      <th>max</th>\n",
       "    </tr>\n",
       "    <tr>\n",
       "      <th>Customer Type</th>\n",
       "      <th></th>\n",
       "      <th></th>\n",
       "      <th></th>\n",
       "      <th></th>\n",
       "      <th></th>\n",
       "      <th></th>\n",
       "      <th></th>\n",
       "      <th></th>\n",
       "    </tr>\n",
       "  </thead>\n",
       "  <tbody>\n",
       "    <tr>\n",
       "      <th>A</th>\n",
       "      <td>31.0</td>\n",
       "      <td>3.393548</td>\n",
       "      <td>0.824680</td>\n",
       "      <td>1.72</td>\n",
       "      <td>2.8550</td>\n",
       "      <td>3.56</td>\n",
       "      <td>4.0050</td>\n",
       "      <td>4.80</td>\n",
       "    </tr>\n",
       "    <tr>\n",
       "      <th>B</th>\n",
       "      <td>42.0</td>\n",
       "      <td>4.205238</td>\n",
       "      <td>0.621200</td>\n",
       "      <td>2.42</td>\n",
       "      <td>3.8475</td>\n",
       "      <td>4.34</td>\n",
       "      <td>4.6975</td>\n",
       "      <td>4.98</td>\n",
       "    </tr>\n",
       "    <tr>\n",
       "      <th>C</th>\n",
       "      <td>27.0</td>\n",
       "      <td>3.641111</td>\n",
       "      <td>0.670478</td>\n",
       "      <td>2.19</td>\n",
       "      <td>3.2500</td>\n",
       "      <td>3.51</td>\n",
       "      <td>4.1400</td>\n",
       "      <td>4.93</td>\n",
       "    </tr>\n",
       "  </tbody>\n",
       "</table>\n",
       "</div>"
      ],
      "text/plain": [
       "              Overall Satisfaction                                          \\\n",
       "                             count      mean       std   min     25%   50%   \n",
       "Customer Type                                                                \n",
       "A                             31.0  3.393548  0.824680  1.72  2.8550  3.56   \n",
       "B                             42.0  4.205238  0.621200  2.42  3.8475  4.34   \n",
       "C                             27.0  3.641111  0.670478  2.19  3.2500  3.51   \n",
       "\n",
       "                             \n",
       "                  75%   max  \n",
       "Customer Type                \n",
       "A              4.0050  4.80  \n",
       "B              4.6975  4.98  \n",
       "C              4.1400  4.93  "
      ]
     },
     "execution_count": 5,
     "metadata": {},
     "output_type": "execute_result"
    }
   ],
   "source": [
    "customer_satisfaction.groupby('Customer Type').describe() #Calculates summmary statistics for A, B & C customer groups"
   ]
  },
  {
   "cell_type": "code",
   "execution_count": 6,
   "id": "acde45ba-68d4-4901-9d52-a461143874f5",
   "metadata": {},
   "outputs": [
    {
     "data": {
      "text/html": [
       "<div>\n",
       "<style scoped>\n",
       "    .dataframe tbody tr th:only-of-type {\n",
       "        vertical-align: middle;\n",
       "    }\n",
       "\n",
       "    .dataframe tbody tr th {\n",
       "        vertical-align: top;\n",
       "    }\n",
       "\n",
       "    .dataframe thead th {\n",
       "        text-align: right;\n",
       "    }\n",
       "</style>\n",
       "<table border=\"1\" class=\"dataframe\">\n",
       "  <thead>\n",
       "    <tr style=\"text-align: right;\">\n",
       "      <th></th>\n",
       "      <th>Overall Satisfaction</th>\n",
       "    </tr>\n",
       "    <tr>\n",
       "      <th>Customer Type</th>\n",
       "      <th></th>\n",
       "    </tr>\n",
       "  </thead>\n",
       "  <tbody>\n",
       "    <tr>\n",
       "      <th>A</th>\n",
       "      <td>4.67</td>\n",
       "    </tr>\n",
       "    <tr>\n",
       "      <th>B</th>\n",
       "      <td>[4.53, 4.91]</td>\n",
       "    </tr>\n",
       "    <tr>\n",
       "      <th>C</th>\n",
       "      <td>[2.19, 2.64, 2.88, 3.04, 3.12, 3.16, 3.24, 3.2...</td>\n",
       "    </tr>\n",
       "  </tbody>\n",
       "</table>\n",
       "</div>"
      ],
      "text/plain": [
       "                                            Overall Satisfaction\n",
       "Customer Type                                                   \n",
       "A                                                           4.67\n",
       "B                                                   [4.53, 4.91]\n",
       "C              [2.19, 2.64, 2.88, 3.04, 3.12, 3.16, 3.24, 3.2..."
      ]
     },
     "execution_count": 6,
     "metadata": {},
     "output_type": "execute_result"
    }
   ],
   "source": [
    "customer_satisfaction.groupby('Customer Type').agg(pd.Series.mode) #Calculates summmary statistics for  A, B & C customer groups"
   ]
  },
  {
   "cell_type": "code",
   "execution_count": 7,
   "id": "13a18ea0-1c44-455e-976b-b073615a201e",
   "metadata": {
    "tags": []
   },
   "outputs": [
    {
     "data": {
      "image/png": "[encoded data removed]",
      "text/plain": [
       "<Figure size 432x288 with 1 Axes>"
      ]
     },
     "metadata": {
      "needs_background": "light"
     },
     "output_type": "display_data"
    },
    {
     "data": {
      "image/png": "[encoded data removed]",
      "text/plain": [
       "<Figure size 432x288 with 1 Axes>"
      ]
     },
     "metadata": {
      "needs_background": "light"
     },
     "output_type": "display_data"
    },
    {
     "data": {
      "image/png": "[encoded data removed]",
      "text/plain": [
       "<Figure size 432x288 with 1 Axes>"
      ]
     },
     "metadata": {
      "needs_background": "light"
     },
     "output_type": "display_data"
    }
   ],
   "source": [
    "customer_satisfaction.groupby('Customer Type').hist(by=customer_satisfaction['Customer Type'], bins=5) #Plots histogram for A, B & C customer groups (Number bins can be adjusted to get a \"better\" looking histogram)\n",
    "plt.xlabel('Overall Satisfaction')                                                                     #Labls x-axis\n",
    "plt.ylabel('Frequency');                                                                               #Labels y-axis"
   ]
  },
  {
   "cell_type": "code",
   "execution_count": 8,
   "id": "892ff35d-0d3c-4f72-8e73-df01349b751e",
   "metadata": {},
   "outputs": [
    {
     "data": {
      "image/png": "[encoded data removed]",
      "text/plain": [
       "<Figure size 432x288 with 1 Axes>"
      ]
     },
     "metadata": {
      "needs_background": "light"
     },
     "output_type": "display_data"
    }
   ],
   "source": [
    "customer_satisfaction.groupby('Customer Type').boxplot('Overall Satisfaction', vert=False) #Plots histogram for A, B & C customer groups\n",
    "plt.xlabel('Overall Satisfaction')                                                         #Labels x-axis\n",
    "plt.ylabel('Frequency');                                                                   #Labels y-axis\n",
    "\n",
    "plt.subplots_adjust(left=0.1,                                                              #Adjusts spacing between plots to improve visualisation quality   \n",
    "                    bottom=0.1,\n",
    "                    right=0.9,\n",
    "                    top=0.9,\n",
    "                    wspace=0.4,\n",
    "                    hspace=0.4)\n",
    "plt.show()"
   ]
  },
  {
   "cell_type": "markdown",
   "id": "8c63525d-4526-49aa-b9fb-a5bef277913e",
   "metadata": {
    "tags": []
   },
   "source": [
    "# ***5. Normality Checks***"
   ]
  },
  {
   "cell_type": "markdown",
   "id": "89ea5bdf-2e13-4d22-8b6b-b359e976768b",
   "metadata": {},
   "source": [
    "## ***5.1. Compare Mean, Mode and Median***"
   ]
  },
  {
   "cell_type": "markdown",
   "id": "17f7af88-13af-4f67-8890-faa0aea201b7",
   "metadata": {
    "tags": []
   },
   "source": [
    "<div class=\"alert alert-block alert-info\">\n",
    "\n",
    "|Group | Mean | Median |Mode|Comment|\n",
    "| --- | --- | --- |--- |--- |\n",
    "| A |3.4 | 3.6 |4.7|mean<median<mode, Not normal, negative skewness|\n",
    "| B |4.2 | 4.3 |4.5, 4.9 |mean<median<mode, Not normal, negative skewness|\n",
    "| C |3.6 | 3.5 |2.9,...,3.2|mean>median>mode, Not normal, positive skewness|\n",
    "    \n",
    " ***Overall, the sample data for all three groups does not appear to come from a normal distribution***"
   ]
  },
  {
   "cell_type": "markdown",
   "id": "8823150a-d4b4-4c4f-ba10-6a2ccf9a87b1",
   "metadata": {
    "tags": []
   },
   "source": [
    "## ***5.2. Analyse Histograms and Boxplots***"
   ]
  },
  {
   "cell_type": "markdown",
   "id": "038479c8-b028-459a-b5f2-884f7e73814e",
   "metadata": {},
   "source": [
    "<div class=\"alert alert-block alert-info\">\n",
    "    \n",
    "***Groups A and B - show negative skewness (More data is to the right of the histogram and the median line on the boxplot is to the right)***\n",
    "\n",
    "***Groups C - shows positive skewness (More data is to the left of the histogram and the median line on the boxplot is to the left)***\n",
    " "
   ]
  },
  {
   "cell_type": "markdown",
   "id": "c35d5b54-cbff-4f43-8956-8d96e64e3c92",
   "metadata": {},
   "source": [
    "## ***5.3. Normal Probability Plots***"
   ]
  },
  {
   "cell_type": "code",
   "execution_count": 9,
   "id": "dd0cda06-b581-4c22-89e2-1769eaae6c26",
   "metadata": {},
   "outputs": [
    {
     "data": {
      "image/png": "[encoded data removed]",
      "text/plain": [
       "<Figure size 432x288 with 1 Axes>"
      ]
     },
     "metadata": {
      "needs_background": "light"
     },
     "output_type": "display_data"
    }
   ],
   "source": [
    "groupA = list(customer_satisfaction[customer_satisfaction['Customer Type'] == 'A']['Overall Satisfaction'])  #Creates ordered data for the specific group\n",
    "n_groupA = stats.zscore(groupA)                                                                              #N-score transformation\n",
    "stats.probplot(n_groupA, dist = 'norm', plot=pylab)                                                          #Calculates quantiles of sample data against those of a normal distribution                                                            \n",
    "pylab.show()                                                                                                 #Displays the normal probability plot"
   ]
  },
  {
   "cell_type": "code",
   "execution_count": 10,
   "id": "6836faf6-f1ab-4c52-bea4-630fdcfeac24",
   "metadata": {},
   "outputs": [
    {
     "data": {
      "image/png": "[encoded data removed]",
      "text/plain": [
       "<Figure size 432x288 with 1 Axes>"
      ]
     },
     "metadata": {
      "needs_background": "light"
     },
     "output_type": "display_data"
    }
   ],
   "source": [
    "groupB = list(customer_satisfaction[customer_satisfaction['Customer Type'] == 'B']['Overall Satisfaction']) #Creates ordered data for the specific group\n",
    "n_groupB = stats.zscore(groupA)                                                                             #N-score transformation\n",
    "stats.probplot(n_groupB, dist = 'norm', plot=pylab)                                                         #Calculates quantiles of sample data against those of a normal distribution   \n",
    "pylab.show()                                                                                                #Displays the normal probability plot"
   ]
  },
  {
   "cell_type": "code",
   "execution_count": 11,
   "id": "0c5a2557-dafc-4680-8158-d6e288bd4ee3",
   "metadata": {},
   "outputs": [
    {
     "data": {
      "image/png": "[encoded data removed]",
      "text/plain": [
       "<Figure size 432x288 with 1 Axes>"
      ]
     },
     "metadata": {
      "needs_background": "light"
     },
     "output_type": "display_data"
    }
   ],
   "source": [
    "groupC = list(customer_satisfaction[customer_satisfaction['Customer Type'] == 'C']['Overall Satisfaction']) #Displays the normal probaility plot\n",
    "n_groupC = stats.zscore(groupC)                                                                             #N-score transformation\n",
    "stats.probplot(n_groupB, dist = 'norm', plot=pylab)                                                         #Calculates quantiles of sample data against those of a normal distribution \n",
    "pylab.show()                                                                                                #Displays the normal probability plot"
   ]
  },
  {
   "cell_type": "markdown",
   "id": "88223e83-d569-4e70-9552-b9e23b6c590f",
   "metadata": {},
   "source": [
    "<div class=\"alert alert-block alert-info\">\n",
    " \n",
    " ***All normal probability plots show minor departures from normality.***\n"
   ]
  },
  {
   "cell_type": "markdown",
   "id": "733d15ad-e6b5-41be-bdf2-6db6ecd95212",
   "metadata": {},
   "source": [
    "## ***5.4. Calculate Skewness***"
   ]
  },
  {
   "cell_type": "code",
   "execution_count": 12,
   "id": "601ceee0-a92e-4d75-b8b4-6a9652e76c91",
   "metadata": {},
   "outputs": [
    {
     "data": {
      "text/plain": [
       "-0.23516880622277184"
      ]
     },
     "execution_count": 12,
     "metadata": {},
     "output_type": "execute_result"
    }
   ],
   "source": [
    "from scipy.stats import kurtosis\n",
    "from scipy.stats import skew\n",
    "skew(groupA, bias=False) #Calculates skewness for Group A"
   ]
  },
  {
   "cell_type": "markdown",
   "id": "30f3db1f-2714-4b52-a4d6-d9dfa7e3c4f2",
   "metadata": {},
   "source": [
    "<div class=\"alert alert-block alert-info\">\n",
    " \n",
    "***Group A - approximately symmetrical ( Skewness is between 0 & -0.5)***\n",
    " "
   ]
  },
  {
   "cell_type": "code",
   "execution_count": 13,
   "id": "c00f42d6-a7a2-4241-a065-d5efb7ecc94e",
   "metadata": {},
   "outputs": [
    {
     "data": {
      "text/plain": [
       "-0.9679941461074673"
      ]
     },
     "execution_count": 13,
     "metadata": {},
     "output_type": "execute_result"
    }
   ],
   "source": [
    "skew(groupB, bias=False) #Calculates skewness for Group B"
   ]
  },
  {
   "cell_type": "markdown",
   "id": "d8634ff4-739f-4281-befb-425fca8adaca",
   "metadata": {},
   "source": [
    "<div class=\"alert alert-block alert-info\">\n",
    " \n",
    " ***Group B - moderately negatively skewed ( Skewness is between -0.5 & -1)*** "
   ]
  },
  {
   "cell_type": "code",
   "execution_count": 14,
   "id": "16701e46-f451-426c-90ab-b054df4dff58",
   "metadata": {},
   "outputs": [
    {
     "data": {
      "text/plain": [
       "0.1395708394526358"
      ]
     },
     "execution_count": 14,
     "metadata": {},
     "output_type": "execute_result"
    }
   ],
   "source": [
    "skew(groupC, bias=False) #Calculates skewness for Group C"
   ]
  },
  {
   "cell_type": "markdown",
   "id": "e9dc3dd3-31a0-41a8-baaf-6a8b4187af48",
   "metadata": {},
   "source": [
    "<div class=\"alert alert-block alert-info\">\n",
    " \n",
    " ***Group C - approximatetly symmetrical( Skewness is between 0 & 0.5)*** "
   ]
  },
  {
   "cell_type": "markdown",
   "id": "e2ff965f-d5d6-4dd6-95b2-c4883d8461ff",
   "metadata": {},
   "source": [
    "## ***5.5. Normality Test: Anderson Darling Test***"
   ]
  },
  {
   "cell_type": "code",
   "execution_count": 15,
   "id": "b726cfe4-a446-47be-a86d-0fa2ffa6d05a",
   "metadata": {
    "tags": []
   },
   "outputs": [
    {
     "data": {
      "text/plain": [
       "AndersonResult(statistic=0.31277577576624793, critical_values=array([0.522, 0.595, 0.713, 0.832, 0.99 ]), significance_level=array([15. , 10. ,  5. ,  2.5,  1. ]))"
      ]
     },
     "execution_count": 15,
     "metadata": {},
     "output_type": "execute_result"
    }
   ],
   "source": [
    "from scipy.stats import anderson\n",
    "anderson(groupA, dist ='norm') #Runs Anderson Darling's normality test for Group A"
   ]
  },
  {
   "cell_type": "markdown",
   "id": "5e12adcb-b928-403b-9a58-f4884bfa788b",
   "metadata": {},
   "source": [
    "<div class=\"alert alert-block alert-info\">\n",
    "\n",
    "***Remember:***\n",
    "\n",
    "***1. If (Test) Statistic > Critcal Value, Reject the null hypothesis (Note: Ho for A/D = data are normally distributed)***\n",
    "    \n",
    "***2. If (Test) Statistic < Critcal Value, Fail to reject the null hypothesis (Note: Ho for A/D = data are normally distributed)***\n",
    "\n",
    "***For all significance levels, (Test) Statistic < Critical Values. Therefore, we fail to reject the null hypothesis that the data is normally distributed.***"
   ]
  },
  {
   "cell_type": "code",
   "execution_count": 16,
   "id": "12ac8be0-e607-49ac-98c3-d42dd881b468",
   "metadata": {
    "tags": []
   },
   "outputs": [
    {
     "data": {
      "text/plain": [
       "AndersonResult(statistic=0.8262589434245626, critical_values=array([0.533, 0.607, 0.728, 0.849, 1.01 ]), significance_level=array([15. , 10. ,  5. ,  2.5,  1. ]))"
      ]
     },
     "execution_count": 16,
     "metadata": {},
     "output_type": "execute_result"
    }
   ],
   "source": [
    "anderson(groupB, dist ='norm') #Runs Anderson Darling's normality test for Group B"
   ]
  },
  {
   "cell_type": "markdown",
   "id": "eaac7475-f498-4b2f-8939-047eb55bf9a7",
   "metadata": {},
   "source": [
    "<div class=\"alert alert-block alert-info\">\n",
    "\n",
    "***Remember:***\n",
    "\n",
    "***1. If (Test) Statistic > Critcal Value, Reject the null hypothesis (Note: Ho for A/D = data are normally distributed)***\n",
    "    \n",
    "***2. If (Test) Statistic < Critcal Value, Fail to reject the null hypothesis (Note: Ho for A/D = data are normally distributed)***\n",
    "\n",
    "***For significance levels =<5%, (Test) Statistic > Critical Values. Therefore, reject the null hypothesis that the data is normally distributed.***"
   ]
  },
  {
   "cell_type": "code",
   "execution_count": 17,
   "id": "114ad2c6-b1f1-4b01-a1c3-22887513ba20",
   "metadata": {
    "tags": []
   },
   "outputs": [
    {
     "data": {
      "text/plain": [
       "AndersonResult(statistic=0.3892912984939123, critical_values=array([0.517, 0.589, 0.707, 0.824, 0.98 ]), significance_level=array([15. , 10. ,  5. ,  2.5,  1. ]))"
      ]
     },
     "execution_count": 17,
     "metadata": {},
     "output_type": "execute_result"
    }
   ],
   "source": [
    "anderson(groupC, dist ='norm') #Runs Anderson Darling's normality test for Group C"
   ]
  },
  {
   "cell_type": "markdown",
   "id": "0a786813-59c1-4026-b52b-ac1e4f9a213b",
   "metadata": {},
   "source": [
    "<div class=\"alert alert-block alert-info\">\n",
    "\n",
    "***Remember:***\n",
    "\n",
    "***1. If (Test) Statistic > Critcal Value, Reject the null hypothesis (Note: Ho for A/D = data are normally distributed)***\n",
    "    \n",
    "***2. If (Test) Statistic < Critcal Value, Fail to reject the null hypothesis (Note: Ho for A/D = data are normally distributed)***\n",
    "\n",
    "***For significance levels =<5%, (Test) Statistic > Critical Values. Therefore, reject the null hypothesis that the data is normally distributed.***"
   ]
  },
  {
   "cell_type": "markdown",
   "id": "25fae885-b150-474c-bbf5-c1d480b91494",
   "metadata": {
    "tags": []
   },
   "source": [
    "# ***6. Equal Variance Test***"
   ]
  },
  {
   "cell_type": "markdown",
   "id": "7d8cd21b-6552-4462-9bd5-50f270bb5d1f",
   "metadata": {},
   "source": [
    "<div class=\"alert alert-block alert-info\">\n",
    "    \n",
    "***Since there is no  sufficient evidence to support that Group B is normally distributed at significance level of 5% or less. The equal variance test to use is the Levene Test which is robust for non-normal data.***"
   ]
  },
  {
   "cell_type": "code",
   "execution_count": 18,
   "id": "d320526c-9d81-4275-ad42-246fd81ca03d",
   "metadata": {},
   "outputs": [
    {
     "data": {
      "text/plain": [
       "LeveneResult(statistic=2.21526701314763, pvalue=0.11461635117632656)"
      ]
     },
     "execution_count": 18,
     "metadata": {},
     "output_type": "execute_result"
    }
   ],
   "source": [
    "stats.levene(groupA, groupB, groupC) #Runs a Levene's Test for Equal Variances"
   ]
  },
  {
   "cell_type": "markdown",
   "id": "ca78a99e-74a6-493e-997e-d0bc038c1f67",
   "metadata": {},
   "source": [
    "<div class=\"alert alert-block alert-info\">\n",
    "\n",
    "***Remember:***\n",
    "\n",
    "***Levene's test: Ho: Variance 1 = Variance 2***\n",
    "    \n",
    "***P-value <0.05, Reject the null hypothesisx***\n",
    "               \n",
    "***P-value >0.05, Fail to reject the null hypothesis***\n",
    "\n",
    "***Here, p-value > 0.05, therefore we fail reject the null hypothesis that the variances of Group A, B and C are equal. Therefore, we use one way Anova, if the variances were proven to be unequal, we use Welch's ANOVA *** "
   ]
  },
  {
   "cell_type": "markdown",
   "id": "db21d650-645e-46c6-9da4-6378a405ca96",
   "metadata": {},
   "source": [
    "# ***7. One Way ANOVA***"
   ]
  },
  {
   "cell_type": "code",
   "execution_count": 19,
   "id": "dc19752a-00b4-4ac3-a0f1-83a48b545551",
   "metadata": {},
   "outputs": [
    {
     "data": {
      "text/plain": [
       "F_onewayResult(statistic=12.85565288372719, pvalue=1.115647780308464e-05)"
      ]
     },
     "execution_count": 19,
     "metadata": {},
     "output_type": "execute_result"
    }
   ],
   "source": [
    "stats.f_oneway(groupA, groupB, groupC) #Runs one way ANOVA"
   ]
  },
  {
   "cell_type": "markdown",
   "id": "3e853ae5-49d7-4ddf-81a1-edb8bfe55363",
   "metadata": {},
   "source": [
    "<div class=\"alert alert-block alert-info\">\n",
    "   \n",
    "\n",
    "***One-way ANOVA: Ho: Mean 1 = Mean 2 = Mean 3***\n",
    "    \n",
    "***P-value <0.05, Reject the null hypothesis***\n",
    "               \n",
    "***P-value >0.05, Fail to reject the null hypothesis***\n",
    "\n",
    "***Here, p-value < 0.05, therefore we reject the null hypothesis that the means of customer satisfaction for the groups A, B and C are equal.***\n",
    "\n",
    "***Therefore, by looking at the box plots, it can be concluded that Group B has the highest customer satisfication***"
   ]
  }
 ],
 "metadata": {
  "kernelspec": {
   "display_name": "Python 3 (ipykernel)",
   "language": "python",
   "name": "python3"
  },
  "language_info": {
   "codemirror_mode": {
    "name": "ipython",
    "version": 3
   },
   "file_extension": ".py",
   "mimetype": "text/x-python",
   "name": "python",
   "nbconvert_exporter": "python",
   "pygments_lexer": "ipython3",
   "version": "3.9.12"
  },
  "toc-showmarkdowntxt": false
 },
 "nbformat": 4,
 "nbformat_minor": 5
}
